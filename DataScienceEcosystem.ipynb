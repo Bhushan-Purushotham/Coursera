{
 "cells": [
  {
   "cell_type": "markdown",
   "id": "0409bbc0-0cd2-4a3c-a874-19c1b76dc95b",
   "metadata": {},
   "source": [
    "# Data Science Tools and Ecosystem"
   ]
  },
  {
   "cell_type": "markdown",
   "id": "2c2d1daa-feb3-4e5f-931f-dc27495893f0",
   "metadata": {},
   "source": [
    "In this notebook, Data Science Tools and Ecosystem are summarized."
   ]
  },
  {
   "cell_type": "markdown",
   "id": "2a24ef8e-281b-44cc-a560-bcf53c622810",
   "metadata": {},
   "source": [
    " Objectives:\n",
    " * List popular languages for Data Science\n",
    " * List commonly used librariesby Data Scientists\n",
    " * Creating a Table in markdown tab\n",
    " * Example of evaluating arithmetic expressions in Python\n",
    " * Example to convert minutes to hours"
   ]
  },
  {
   "cell_type": "markdown",
   "id": "2ed18e18-220c-4180-b67d-c67cb1df3279",
   "metadata": {},
   "source": [
    "Some of the popular languages that Data Scientists use are:\n",
    "1. python\n",
    "2. R\n",
    "3. SQL\n",
    "4. Julia\n",
    "5. Scala\n",
    "   "
   ]
  },
  {
   "cell_type": "markdown",
   "id": "e59e572f-3590-44e5-8e6b-ae4f9f99d60b",
   "metadata": {},
   "source": [
    "Some of the commonly used libraries used by Data Scientists include:\n",
    "1. Matplotlib\n",
    "2. Pandas\n",
    "3. Scikit-learn\n",
    "4. NumPy\n",
    "5. Seaborn\n",
    "6. SciPy\n",
    "7. TensorFlow\n",
    "8. Keras\n",
    "   "
   ]
  },
  {
   "cell_type": "markdown",
   "id": "39ca1189-71ef-4712-98d2-7deb3bd40293",
   "metadata": {},
   "source": [
    "|Data Science Tools | \n",
    "| ------------------|\n",
    "| Jupyter Notebook  | \n",
    "|RStudio            | \n",
    "| VS Code           | "
   ]
  },
  {
   "cell_type": "markdown",
   "id": "2d7da476-c8f0-4539-9356-85c196332b29",
   "metadata": {},
   "source": [
    "### Below are a few examples of evaluating arithmetic expressions in Python"
   ]
  },
  {
   "cell_type": "code",
   "execution_count": 4,
   "id": "efa26306-207d-4b02-92ae-35394bc9f1dc",
   "metadata": {},
   "outputs": [
    {
     "data": {
      "text/plain": [
       "17"
      ]
     },
     "execution_count": 4,
     "metadata": {},
     "output_type": "execute_result"
    }
   ],
   "source": [
    "# This a simple arithmetic expression to multiply then add integers\n",
    "(3*4)+5"
   ]
  },
  {
   "cell_type": "code",
   "execution_count": 9,
   "id": "f61014c0-2dd4-453f-bf40-f2adab85529a",
   "metadata": {},
   "outputs": [
    {
     "name": "stdout",
     "output_type": "stream",
     "text": [
      "200 minutes is equal to 3 hours and 20 minutes\n"
     ]
    }
   ],
   "source": [
    "# This will convert 200 minutes to hours by diving by 60\n",
    "minutes=200\n",
    "hours= minutes//60\n",
    "remaining_minutes=minutes%60\n",
    "print(f\"{minutes} minutes is equal to {hours} hours and {remaining_minutes} minutes\")\n"
   ]
  },
  {
   "cell_type": "markdown",
   "id": "a9d8ef45-e3c8-4af0-aff0-7469ccc8346f",
   "metadata": {},
   "source": [
    "## Author\n",
    "Bhushan Purushotham"
   ]
  },
  {
   "cell_type": "code",
   "execution_count": null,
   "id": "7e779b83-16af-485f-8e97-fc013558a7a1",
   "metadata": {},
   "outputs": [],
   "source": []
  }
 ],
 "metadata": {
  "kernelspec": {
   "display_name": "Python 3 (ipykernel)",
   "language": "python",
   "name": "python3"
  },
  "language_info": {
   "codemirror_mode": {
    "name": "ipython",
    "version": 3
   },
   "file_extension": ".py",
   "mimetype": "text/x-python",
   "name": "python",
   "nbconvert_exporter": "python",
   "pygments_lexer": "ipython3",
   "version": "3.12.8"
  }
 },
 "nbformat": 4,
 "nbformat_minor": 5
}
